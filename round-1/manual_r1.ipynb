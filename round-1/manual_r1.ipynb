{
 "cells": [
  {
   "cell_type": "code",
   "execution_count": 1,
   "metadata": {},
   "outputs": [
    {
     "name": "stdout",
     "output_type": "stream",
     "text": [
      "找到如下套利路径（路径及最终兑换比率）：\n",
      "SeaShells -> Snowballs -> Silicon Nuggets -> Pizzas -> SeaShells 倍率: 1.037\n",
      "SeaShells -> Snowballs -> Silicon Nuggets -> SeaShells 倍率: 1.038\n",
      "SeaShells -> Pizzas -> Snowballs -> Silicon Nuggets -> SeaShells 倍率: 1.074\n"
     ]
    }
   ],
   "source": [
    "def find_arbitrage_paths(graph, start):\n",
    "    n = len(graph)\n",
    "    results = []\n",
    "\n",
    "    def dfs(current, path, product, visited):\n",
    "        # 如果回到了起点且路径长度大于1，则判断套利\n",
    "        if current == start and len(path) > 1:\n",
    "            if product > 1:\n",
    "                results.append((path.copy(), product))\n",
    "            # 回到起点后继续遍历其他可能路径时，可以直接返回（不继续累加）\n",
    "            return\n",
    "        \n",
    "        for neighbor in graph[current]:\n",
    "            # 为避免无限循环，可以限制每个节点仅访问一次，但允许回到起点\n",
    "            if neighbor not in visited or neighbor == start:\n",
    "                path.append(neighbor)\n",
    "                new_product = product * graph[current][neighbor]\n",
    "                # 标记已经访问过，除非是起点\n",
    "                if neighbor != start:\n",
    "                    visited.add(neighbor)\n",
    "                dfs(neighbor, path, new_product, visited)\n",
    "                # 回溯\n",
    "                if neighbor != start:\n",
    "                    visited.remove(neighbor)\n",
    "                path.pop()\n",
    "\n",
    "    dfs(start, [start], 1, set([start]))\n",
    "    return results\n",
    "\n",
    "\n",
    "if __name__ == '__main__':\n",
    "    # 定义兑换率图（字典的字典），单位：从key兑换到内部key的比率\n",
    "    graph = {\n",
    "        'Snowballs': {\n",
    "            \"Pizzas\": 1.45,\n",
    "            \"Silicon Nuggets\": 0.52,\n",
    "            \"SeaShells\": 0.72\n",
    "        },\n",
    "        \"Pizzas\": {\n",
    "            \"Snowballs\": 0.7,\n",
    "            \"Silicon Nuggets\": 0.31,\n",
    "            \"SeaShells\": 0.48\n",
    "        },\n",
    "        \"Silicon Nuggets\": {\n",
    "            \"Snowballs\": 1.95,\n",
    "            \"Pizzas\": 3.1,\n",
    "            \"SeaShells\": 1.49\n",
    "        },\n",
    "        \"SeaShells\": {\n",
    "            \"Snowballs\": 1.34,\n",
    "            \"Pizzas\": 1.98,\n",
    "            \"Silicon Nuggets\": 0.64\n",
    "        }\n",
    "    }\n",
    "\n",
    "    start_currency = \"SeaShells\"\n",
    "    arbitrage_paths = find_arbitrage_paths(graph, start_currency)\n",
    "    \n",
    "    if arbitrage_paths:\n",
    "        print(\"找到如下套利路径（路径及最终兑换比率）：\")\n",
    "        for path, rate in arbitrage_paths:\n",
    "            print(\" -> \".join(path), f\"倍率: {rate:.3f}\")\n",
    "    else:\n",
    "        print(\"未找到套利机会。\")\n"
   ]
  }
 ],
 "metadata": {
  "kernelspec": {
   "display_name": "base",
   "language": "python",
   "name": "python3"
  },
  "language_info": {
   "codemirror_mode": {
    "name": "ipython",
    "version": 3
   },
   "file_extension": ".py",
   "mimetype": "text/x-python",
   "name": "python",
   "nbconvert_exporter": "python",
   "pygments_lexer": "ipython3",
   "version": "3.11.2"
  }
 },
 "nbformat": 4,
 "nbformat_minor": 2
}
